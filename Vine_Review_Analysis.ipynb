{
  "cells": [
    {
      "cell_type": "code",
      "execution_count": 3,
      "metadata": {
        "colab": {
          "base_uri": "https://localhost:8080/"
        },
        "id": "nbIQRjjJ8BG6",
        "outputId": "cba8d86f-b9b4-4fce-81cc-11ba7c535d89"
      },
      "outputs": [
        {
          "output_type": "stream",
          "name": "stdout",
          "text": [
            "\r0% [Working]\r            \rGet:1 http://security.ubuntu.com/ubuntu bionic-security InRelease [88.7 kB]\n",
            "\r0% [Connecting to archive.ubuntu.com] [1 InRelease 14.2 kB/88.7 kB 16%] [Connec\r                                                                               \rGet:2 https://cloud.r-project.org/bin/linux/ubuntu bionic-cran40/ InRelease [3,626 B]\n",
            "Hit:3 http://archive.ubuntu.com/ubuntu bionic InRelease\n",
            "Get:4 http://archive.ubuntu.com/ubuntu bionic-updates InRelease [88.7 kB]\n",
            "Get:5 http://ppa.launchpad.net/c2d4u.team/c2d4u4.0+/ubuntu bionic InRelease [15.9 kB]\n",
            "Ign:6 https://developer.download.nvidia.com/compute/machine-learning/repos/ubuntu1804/x86_64  InRelease\n",
            "Hit:7 https://developer.download.nvidia.com/compute/cuda/repos/ubuntu1804/x86_64  InRelease\n",
            "Hit:8 https://developer.download.nvidia.com/compute/machine-learning/repos/ubuntu1804/x86_64  Release\n",
            "Get:9 http://archive.ubuntu.com/ubuntu bionic-backports InRelease [83.3 kB]\n",
            "Hit:10 http://ppa.launchpad.net/cran/libgit2/ubuntu bionic InRelease\n",
            "Get:11 https://cloud.r-project.org/bin/linux/ubuntu bionic-cran40/ Packages [96.6 kB]\n",
            "Get:12 http://ppa.launchpad.net/deadsnakes/ppa/ubuntu bionic InRelease [15.9 kB]\n",
            "Hit:13 http://ppa.launchpad.net/graphics-drivers/ppa/ubuntu bionic InRelease\n",
            "Get:15 http://archive.ubuntu.com/ubuntu bionic-updates/main amd64 Packages [3,467 kB]\n",
            "Get:16 http://ppa.launchpad.net/c2d4u.team/c2d4u4.0+/ubuntu bionic/main Sources [2,181 kB]\n",
            "Get:17 http://ppa.launchpad.net/c2d4u.team/c2d4u4.0+/ubuntu bionic/main amd64 Packages [1,117 kB]\n",
            "Fetched 7,158 kB in 3s (2,064 kB/s)\n",
            "Reading package lists... Done\n"
          ]
        }
      ],
      "source": [
        "import os\n",
        "# Find the latest version of spark 3.0 from http://www.apache.org/dist/spark/ and enter as the spark version\n",
        "# For example:\n",
        "# spark_version = 'spark-3.0.3'\n",
        "spark_version = 'spark-3.2.2'\n",
        "os.environ['SPARK_VERSION']=spark_version\n",
        "\n",
        "# Install Spark and Java\n",
        "!apt-get update\n",
        "!apt-get install openjdk-11-jdk-headless -qq > /dev/null\n",
        "!wget -q http://www.apache.org/dist/spark/$SPARK_VERSION/$SPARK_VERSION-bin-hadoop2.7.tgz\n",
        "!tar xf $SPARK_VERSION-bin-hadoop2.7.tgz\n",
        "!pip install -q findspark\n",
        "\n",
        "# Set Environment Variables\n",
        "import os\n",
        "os.environ[\"JAVA_HOME\"] = \"/usr/lib/jvm/java-11-openjdk-amd64\"\n",
        "os.environ[\"SPARK_HOME\"] = f\"/content/{spark_version}-bin-hadoop2.7\"\n",
        "\n",
        "# Start a SparkSession\n",
        "import findspark\n",
        "findspark.init()"
      ]
    },
    {
      "cell_type": "code",
      "metadata": {
        "id": "_xKwTpATHqSe",
        "colab": {
          "base_uri": "https://localhost:8080/"
        },
        "outputId": "71e7a718-8fcd-4a7b-a562-db908b78ee16"
      },
      "source": [
        "# Download the Postgres driver that will allow Spark to interact with Postgres.\n",
        "!wget https://jdbc.postgresql.org/download/postgresql-42.2.16.jar"
      ],
      "execution_count": 1,
      "outputs": [
        {
          "output_type": "stream",
          "name": "stdout",
          "text": [
            "--2022-11-01 07:22:31--  https://jdbc.postgresql.org/download/postgresql-42.2.16.jar\n",
            "Resolving jdbc.postgresql.org (jdbc.postgresql.org)... 72.32.157.228, 2001:4800:3e1:1::228\n",
            "Connecting to jdbc.postgresql.org (jdbc.postgresql.org)|72.32.157.228|:443... connected.\n",
            "HTTP request sent, awaiting response... 200 OK\n",
            "Length: 1002883 (979K) [application/java-archive]\n",
            "Saving to: ‘postgresql-42.2.16.jar’\n",
            "\n",
            "postgresql-42.2.16. 100%[===================>] 979.38K  6.28MB/s    in 0.2s    \n",
            "\n",
            "2022-11-01 07:22:31 (6.28 MB/s) - ‘postgresql-42.2.16.jar’ saved [1002883/1002883]\n",
            "\n"
          ]
        }
      ]
    },
    {
      "cell_type": "code",
      "source": [
        "from pyspark.sql import SparkSession\n",
        "spark = SparkSession.builder.appName(\"AWS-Challenge\").config(\"spark.driver.extraClassPath\",\"/content/postgresql-42.2.16.jar\").getOrCreate()"
      ],
      "metadata": {
        "id": "KFi9ScHrEjDI"
      },
      "execution_count": 4,
      "outputs": []
    },
    {
      "cell_type": "code",
      "source": [
        "from pyspark import SparkFiles\n",
        "url = \"https://.s3.us-east-2.amazonaws.com/amazon_reviews_us_Digital_Video_Games_v1_00.tsv.gz\"\n",
        "spark.sparkContext.addFile(url)\n",
        "df = spark.read.option(\"encoding\", \"UTF-8\").csv(SparkFiles.get(\"amazon_reviews_us_Digital_Video_Games_v1_00.tsv.gz\"), sep=\"\\t\", header=True, inferSchema=True)\n",
        "df.show()"
      ],
      "metadata": {
        "colab": {
          "base_uri": "https://localhost:8080/"
        },
        "id": "_7erOEu3EyUp",
        "outputId": "695aa5d6-29bd-4c5d-be0c-485e9cbf2fff"
      },
      "execution_count": 5,
      "outputs": [
        {
          "output_type": "stream",
          "name": "stdout",
          "text": [
            "+-----------+-----------+--------------+----------+--------------+--------------------+-------------------+-----------+-------------+-----------+----+-----------------+--------------------+--------------------+-----------+\n",
            "|marketplace|customer_id|     review_id|product_id|product_parent|       product_title|   product_category|star_rating|helpful_votes|total_votes|vine|verified_purchase|     review_headline|         review_body|review_date|\n",
            "+-----------+-----------+--------------+----------+--------------+--------------------+-------------------+-----------+-------------+-----------+----+-----------------+--------------------+--------------------+-----------+\n",
            "|         US|   21269168| RSH1OZ87OYK92|B013PURRZW|     603406193|Madden NFL 16 - X...|Digital_Video_Games|          2|            2|          3|   N|                N|A slight improvem...|I keep buying mad...| 2015-08-31|\n",
            "|         US|     133437|R1WFOQ3N9BO65I|B00F4CEHNK|     341969535| Xbox Live Gift Card|Digital_Video_Games|          5|            0|          0|   N|                Y|          Five Stars|             Awesome| 2015-08-31|\n",
            "|         US|   45765011| R3YOOS71KM5M9|B00DNHLFQA|     951665344|Command & Conquer...|Digital_Video_Games|          5|            0|          0|   N|                Y|Hail to the great...|If you are preppi...| 2015-08-31|\n",
            "|         US|     113118|R3R14UATT3OUFU|B004RMK5QG|     395682204|Playstation Plus ...|Digital_Video_Games|          5|            0|          0|   N|                Y|          Five Stars|             Perfect| 2015-08-31|\n",
            "|         US|   22151364| RV2W9SGDNQA2C|B00G9BNLQE|     640460561|Saints Row IV - E...|Digital_Video_Games|          5|            0|          0|   N|                Y|          Five Stars|            Awesome!| 2015-08-31|\n",
            "|         US|   22151364|R3CFKLIZ0I2KOB|B00IMIL498|     621922192|Double Dragon: Ne...|Digital_Video_Games|          5|            0|          0|   N|                Y|          Five Stars|            Awesome!| 2015-08-31|\n",
            "|         US|   38426028|R1LRYU1V0T3O38|B00S00IJH8|     215163395|              Sims 4|Digital_Video_Games|          4|            0|          0|   N|                Y|i like the new sk...|i like the new sk...| 2015-08-31|\n",
            "|         US|    6057518| R44QKV6FE5CJ2|B004RMK4BC|     384246568|Playstation Netwo...|Digital_Video_Games|          5|            0|          0|   N|                Y|          Five Stars|               Super| 2015-08-31|\n",
            "|         US|   20715661|R2TX1KLPXXXNYS|B00K59HKIQ|     384246568|Playstation Netwo...|Digital_Video_Games|          5|            0|          0|   N|                Y|         Easy & Fast|Excellent, fast a...| 2015-08-31|\n",
            "|         US|   26540306|R1JEEW4C6R89BA|B00K59HKIQ|     384246568|Playstation Netwo...|Digital_Video_Games|          5|            0|          0|   N|                Y|          Five Stars|                  Ok| 2015-08-31|\n",
            "|         US|    8926809|R3B3UHK1FO0ERS|B004774IPU|     151985175|Sid Meier's Civil...|Digital_Video_Games|          1|            0|          0|   N|                N|I am still playin...|As has been writt...| 2015-08-31|\n",
            "|         US|   31525534|R2GVSDHW513SS1|B002LIT9EC|     695277014|Build-a-lot 4: Po...|Digital_Video_Games|          5|            0|          0|   N|                Y|Probably the best...|Probably the best...| 2015-08-31|\n",
            "|         US|   22151364|R1R1NT516PYT73|B008ALUBYQ|     112160022|       Borderlands 2|Digital_Video_Games|          5|            0|          0|   N|                Y|          Five Stars|            Awesome!| 2015-08-31|\n",
            "|         US|   22977584|R3K624QDQKENN9|B010KYDNDG|     835376637|Minecraft for PC/...|Digital_Video_Games|          4|            0|          0|   N|                Y|                 FUN|COOL BUT IT LAGES...| 2015-08-31|\n",
            "|         US|   45765011| R1FOXH7PCJX3V|B008ALUBYQ|     112160022|       Borderlands 2|Digital_Video_Games|          1|            0|          2|   N|                Y|            One Star|Lames purchase I ...| 2015-08-31|\n",
            "|         US|    2239522| RA1246M1OMDWC|B004RMK4P8|     384246568|Playstation Netwo...|Digital_Video_Games|          5|            0|          0|   N|                Y|          Five Stars|               Great| 2015-08-31|\n",
            "|         US|   48805811|R2I9SXWB0PAEKQ|B004RMK5QG|     395682204|Playstation Plus ...|Digital_Video_Games|          5|            0|          0|   N|                Y|          Five Stars|          Awesome!!!| 2015-08-31|\n",
            "|         US|   18646481|R3UGL544NA0G9C|B00BI16Z22|     552981447|Brink of Consciou...|Digital_Video_Games|          4|            0|          0|   N|                Y|       worth playing|pretty good but n...| 2015-08-31|\n",
            "|         US|   10310935|R1CBA4Y92GVAVM|B004VSTQ2A|     232803743|Xbox Live Subscri...|Digital_Video_Games|          5|            0|          0|   N|                Y|          Five Stars|What can I say......| 2015-08-31|\n",
            "|         US|    5587610|R24NEKNR01VEHU|B00GAC1D2G|     384246568|Playstation Netwo...|Digital_Video_Games|          5|            0|          0|   N|                Y|        Just amazing|Very fast to rece...| 2015-08-31|\n",
            "+-----------+-----------+--------------+----------+--------------+--------------------+-------------------+-----------+-------------+-----------+----+-----------------+--------------------+--------------------+-----------+\n",
            "only showing top 20 rows\n",
            "\n"
          ]
        }
      ]
    },
    {
      "cell_type": "code",
      "source": [
        "# Filter the data and create a new DataFrame or table to retrieve all the rows where the total_votes count is equal to or greater than 20\n",
        "df_20vote = df.filter(df.total_votes >= 20)\n",
        "df_20vote.show(20)"
      ],
      "metadata": {
        "colab": {
          "base_uri": "https://localhost:8080/"
        },
        "id": "h5welQH8FSm6",
        "outputId": "b20f6da7-629c-4bf1-ae84-759eb1f71bcc"
      },
      "execution_count": 6,
      "outputs": [
        {
          "output_type": "stream",
          "name": "stdout",
          "text": [
            "+-----------+-----------+--------------+----------+--------------+--------------------+-------------------+-----------+-------------+-----------+----+-----------------+--------------------+--------------------+-----------+\n",
            "|marketplace|customer_id|     review_id|product_id|product_parent|       product_title|   product_category|star_rating|helpful_votes|total_votes|vine|verified_purchase|     review_headline|         review_body|review_date|\n",
            "+-----------+-----------+--------------+----------+--------------+--------------------+-------------------+-----------+-------------+-----------+----+-----------------+--------------------+--------------------+-----------+\n",
            "|         US|   12569493| RV4UH0OWW97K4|B0149HT55K|     947161997|Megaman Legacy Co...|Digital_Video_Games|          5|           19|         22|   N|                N|Mega Man Legacy C...|What is Mega Man?...| 2015-08-29|\n",
            "|         US|   40702997| RG6GT6G9WNYT1|B013XJ2M8M|     628348017|Rocket League [On...|Digital_Video_Games|          5|           22|         22|   N|                N|A multiplayer mas...|At its core, Rock...| 2015-08-22|\n",
            "|         US|   10139402| RFBXE3Q3GYQYO|B013XJ2M8M|     628348017|Rocket League [On...|Digital_Video_Games|          5|           68|         70|   N|                Y|Comes with Steam ...|When you buy this...| 2015-08-22|\n",
            "|         US|    2498805|R17V95WYC9ZXDD|B00WY2G178|     738740182|  Grand Theft Auto V|Digital_Video_Games|          1|            0|         20|   N|                Y|                 >:(|They name the gam...| 2015-08-17|\n",
            "|         US|   46312741|R235HEIYY15NZX|B013TVXHYC|     774364132|ARK: Survival Evo...|Digital_Video_Games|          1|            0|         26|   N|                Y|this sucks can't ...|this sucks can't ...| 2015-08-15|\n",
            "|         US|   11816220|R3BZ4DHX2YHC4V|B013TVXHYC|     774364132|ARK: Survival Evo...|Digital_Video_Games|          1|            1|         32|   N|                Y|            One Star|Terrible graphics...| 2015-08-15|\n",
            "|         US|    2158932| RZSC8Q4630BV1|B013TVXHYC|     774364132|ARK: Survival Evo...|Digital_Video_Games|          1|            1|         26|   N|                N|             1 Star!|The game code doe...| 2015-08-15|\n",
            "|         US|   22035782|R34S64NPUZOS90|B013TVXHYC|     774364132|ARK: Survival Evo...|Digital_Video_Games|          5|           23|         24|   N|                N|        Amazing game|[[VIDEOID:e5a8be6...| 2015-08-15|\n",
            "|         US|   21767922|R35O3GV3HZUX8B|B013TVXHYC|     774364132|ARK: Survival Evo...|Digital_Video_Games|          5|           58|         63|   N|                N|more than my mone...|This is definitel...| 2015-08-13|\n",
            "|         US|   47875352|R2AZAMZCEUOKQT|B00F4CF39C|     341969535| Xbox Live Gift Card|Digital_Video_Games|          1|           29|         40|   N|                Y|Complete waste of...|When I tried to r...| 2015-08-10|\n",
            "|         US|   51358050|R103RUVEH5YWQ4|B00F4CFHFC|     341969535| Xbox Live Gift Card|Digital_Video_Games|          1|           69|         90|   N|                Y|  Code already used?|Getting error tel...| 2015-08-08|\n",
            "|         US|   25803630|R2QNPQLXMCXOH3|B010KYDNDG|     835376637|Minecraft for PC/...|Digital_Video_Games|          5|           35|         37|   N|                Y|Very simple to do...|I was very nervou...| 2015-08-06|\n",
            "|         US|   19113385|R3IXRKTYAKSP3I|B010KYDNDG|     835376637|Minecraft for PC/...|Digital_Video_Games|          1|            2|         36|   N|                N|            One Star|Minecraft for psv...| 2015-08-01|\n",
            "|         US|   53021369|R2XR1JSAVZ4G8E|B010O9XWO2|     694952333|King's Quest Coll...|Digital_Video_Games|          1|            6|         23|   N|                Y|I've wasted an ho...|Um, can you give ...| 2015-07-29|\n",
            "|         US|   21468517| R93USRL9TCC0A|B010O9XWO2|     694952333|King's Quest Coll...|Digital_Video_Games|          1|            7|         22|   N|                Y|Interface is terr...|Interface is terr...| 2015-07-28|\n",
            "|         US|    1688095|R3F8QIC548OKSB|B010KYDNDG|     835376637|Minecraft for PC/...|Digital_Video_Games|          1|            4|         41|   N|                N|Mods is what make...|Mojang needs to s...| 2015-07-28|\n",
            "|         US|    7662466| RJHVI076CU1PK|B010KYDNDG|     835376637|Minecraft for PC/...|Digital_Video_Games|          1|            5|         74|   N|                N|            One Star|  graphics suck 0/10| 2015-07-27|\n",
            "|         US|   28371230|R2841JSGJYEO5X|B010R8DUFQ|     473214709|Rocket League - P...|Digital_Video_Games|          1|            1|         28|   N|                N|Uninteresting and...|I tried playing t...| 2015-07-26|\n",
            "|         US|   14355910|R2YK81PG05KMN8|B010KYDNDG|     835376637|Minecraft for PC/...|Digital_Video_Games|          1|            4|         33|   N|                Y|I have bought thi...|I have bought thi...| 2015-07-26|\n",
            "|         US|   14164552|R1RHI2XSCV52AI|B010KYDNDG|     835376637|Minecraft for PC/...|Digital_Video_Games|          1|            4|         61|   N|                Y|Stupidest thing e...|Absolutely useles...| 2015-07-24|\n",
            "+-----------+-----------+--------------+----------+--------------+--------------------+-------------------+-----------+-------------+-----------+----+-----------------+--------------------+--------------------+-----------+\n",
            "only showing top 20 rows\n",
            "\n"
          ]
        }
      ]
    },
    {
      "cell_type": "code",
      "source": [
        "# Filter the new DataFrame or table created in Step 1 and create a new DataFrame or table to retrieve all the rows where the number of helpful_votes divided by total_votes is equal to or greater than 50%.\n",
        "df_helpful = df_20vote.filter((df_20vote.helpful_votes / df_20vote.total_votes) >= 0.5)\n",
        "df_helpful.show(20)"
      ],
      "metadata": {
        "colab": {
          "base_uri": "https://localhost:8080/"
        },
        "id": "jaRT03JOFfxg",
        "outputId": "fb4f513b-96e1-4c6a-d399-d8fa79421ff6"
      },
      "execution_count": 8,
      "outputs": [
        {
          "output_type": "stream",
          "name": "stdout",
          "text": [
            "+-----------+-----------+--------------+----------+--------------+--------------------+-------------------+-----------+-------------+-----------+----+-----------------+--------------------+--------------------+-----------+\n",
            "|marketplace|customer_id|     review_id|product_id|product_parent|       product_title|   product_category|star_rating|helpful_votes|total_votes|vine|verified_purchase|     review_headline|         review_body|review_date|\n",
            "+-----------+-----------+--------------+----------+--------------+--------------------+-------------------+-----------+-------------+-----------+----+-----------------+--------------------+--------------------+-----------+\n",
            "|         US|   12569493| RV4UH0OWW97K4|B0149HT55K|     947161997|Megaman Legacy Co...|Digital_Video_Games|          5|           19|         22|   N|                N|Mega Man Legacy C...|What is Mega Man?...| 2015-08-29|\n",
            "|         US|   40702997| RG6GT6G9WNYT1|B013XJ2M8M|     628348017|Rocket League [On...|Digital_Video_Games|          5|           22|         22|   N|                N|A multiplayer mas...|At its core, Rock...| 2015-08-22|\n",
            "|         US|   10139402| RFBXE3Q3GYQYO|B013XJ2M8M|     628348017|Rocket League [On...|Digital_Video_Games|          5|           68|         70|   N|                Y|Comes with Steam ...|When you buy this...| 2015-08-22|\n",
            "|         US|   22035782|R34S64NPUZOS90|B013TVXHYC|     774364132|ARK: Survival Evo...|Digital_Video_Games|          5|           23|         24|   N|                N|        Amazing game|[[VIDEOID:e5a8be6...| 2015-08-15|\n",
            "|         US|   21767922|R35O3GV3HZUX8B|B013TVXHYC|     774364132|ARK: Survival Evo...|Digital_Video_Games|          5|           58|         63|   N|                N|more than my mone...|This is definitel...| 2015-08-13|\n",
            "|         US|   47875352|R2AZAMZCEUOKQT|B00F4CF39C|     341969535| Xbox Live Gift Card|Digital_Video_Games|          1|           29|         40|   N|                Y|Complete waste of...|When I tried to r...| 2015-08-10|\n",
            "|         US|   51358050|R103RUVEH5YWQ4|B00F4CFHFC|     341969535| Xbox Live Gift Card|Digital_Video_Games|          1|           69|         90|   N|                Y|  Code already used?|Getting error tel...| 2015-08-08|\n",
            "|         US|   25803630|R2QNPQLXMCXOH3|B010KYDNDG|     835376637|Minecraft for PC/...|Digital_Video_Games|          5|           35|         37|   N|                Y|Very simple to do...|I was very nervou...| 2015-08-06|\n",
            "|         US|   52685108| R1JENRRBQ1YMY|B010KYDNDG|     835376637|Minecraft for PC/...|Digital_Video_Games|          5|           35|         36|   N|                N|Can Never Get Tir...|I have played thi...| 2015-07-22|\n",
            "|         US|   45470246|R2NS0HPQ2DD5XU|B010GVEYYK|     987484751|  EA SPORTS PGA TOUR|Digital_Video_Games|          1|           35|         45|   N|                N|  Absolutely Amazing|This game is so a...| 2015-07-20|\n",
            "|         US|   45726489| RIRX9H2QJFD1P|B010KYDNDG|     835376637|Minecraft for PC/...|Digital_Video_Games|          5|           49|         53|   N|                Y|   Minecraft for Mac|Great buy! I rece...| 2015-07-15|\n",
            "|         US|   42822633|R39R2LEKGIEUFS|B010KYDNDG|     835376637|Minecraft for PC/...|Digital_Video_Games|          5|           69|         77|   N|                Y|Fun game for kids...|Was a little skep...| 2015-07-12|\n",
            "|         US|   16925078|R2NCX85FTSTWHC|B010R8DUFQ|     473214709|Rocket League - P...|Digital_Video_Games|          5|           65|         68|   N|                N|Unbelievably addi...|Unbelievably addi...| 2015-07-10|\n",
            "|         US|    1176971|R1IN7ZA9ZCZEVM|B00XUYIOX8|     760479841|        Project CARS|Digital_Video_Games|          5|           17|         25|   N|                Y|r/PS4 Has arrived...| Hi reddit thanks op| 2015-07-07|\n",
            "|         US|   11389919|R253TQ098JL914|B00YQ2TXA6|      67665333|The Elder Scrolls...|Digital_Video_Games|          2|           22|         23|   N|                Y|Good gameplay, ho...|This may be the w...| 2015-06-29|\n",
            "|         US|   20084014|R3OPTDO4EDS6LN|B00WOXKBMS|     811744232|Kerbal Space Program|Digital_Video_Games|          5|           30|         30|   N|                Y|BUY THIS GAME!! ....|***AMAZON VERSION...| 2015-06-25|\n",
            "|         US|   45351550|R1FGHHDQ4P21C0|B00JV3B5RE|     430590615|Batman: Arkham Kn...|Digital_Video_Games|          1|           30|         33|   N|                N|BUY AT YOUR OWN RISK|I've been looking...| 2015-06-23|\n",
            "|         US|   39163813|R3FQ1CSDIOWWRY|B00JV3B5RE|     430590615|Batman: Arkham Kn...|Digital_Video_Games|          1|           71|         80|   N|                N|        Caveat Empor|Copied from my St...| 2015-06-23|\n",
            "|         US|   16910537|R3NJE21NUCII5L|B002VBWIP6|     232803743|Xbox Live Subscri...|Digital_Video_Games|          5|          135|        144|   N|                Y|Typically saves m...|I purchased a 12 ...| 2015-06-23|\n",
            "|         US|   37805211| RRXJ8H18EFNFZ|B00TUEOSMS|      47086315|FINAL FANTASY XIV...|Digital_Video_Games|          4|           26|         32|   N|                Y|1. if you bought ...|1.if you bought f...| 2015-06-19|\n",
            "+-----------+-----------+--------------+----------+--------------+--------------------+-------------------+-----------+-------------+-----------+----+-----------------+--------------------+--------------------+-----------+\n",
            "only showing top 20 rows\n",
            "\n"
          ]
        }
      ]
    },
    {
      "cell_type": "code",
      "source": [
        "# Filter the DataFrame or table created in Step 2, and create a new DataFrame or table that retrieves all the rows where a review was written as part of the Vine program (paid)\n",
        "df_paid = df_helpful.filter(df_helpful.vine == 'Y')\n",
        "df_paid.show(20)"
      ],
      "metadata": {
        "colab": {
          "base_uri": "https://localhost:8080/"
        },
        "id": "FIBoyhIPGMMp",
        "outputId": "3cf2cfda-b04c-4ef3-adf0-59b559ba94d2"
      },
      "execution_count": 14,
      "outputs": [
        {
          "output_type": "stream",
          "name": "stdout",
          "text": [
            "+-----------+-----------+---------+----------+--------------+-------------+----------------+-----------+-------------+-----------+----+-----------------+---------------+-----------+-----------+\n",
            "|marketplace|customer_id|review_id|product_id|product_parent|product_title|product_category|star_rating|helpful_votes|total_votes|vine|verified_purchase|review_headline|review_body|review_date|\n",
            "+-----------+-----------+---------+----------+--------------+-------------+----------------+-----------+-------------+-----------+----+-----------------+---------------+-----------+-----------+\n",
            "+-----------+-----------+---------+----------+--------------+-------------+----------------+-----------+-------------+-----------+----+-----------------+---------------+-----------+-----------+\n",
            "\n"
          ]
        }
      ]
    },
    {
      "cell_type": "code",
      "source": [
        "# Filter the DataFrame or table created in Step 2, and create a new DataFrame or table that retrieves all the rows where a review was written as part of the Vine program (unpaid)\n",
        "df_unpaid = df_helpful.filter(df_helpful.vine == 'N')\n",
        "df_unpaid.show(20)"
      ],
      "metadata": {
        "colab": {
          "base_uri": "https://localhost:8080/"
        },
        "id": "TLvxfVtCHJpt",
        "outputId": "286d15b7-9086-41be-f09e-7a28d9b9ef68"
      },
      "execution_count": 13,
      "outputs": [
        {
          "output_type": "stream",
          "name": "stdout",
          "text": [
            "+-----------+-----------+--------------+----------+--------------+--------------------+-------------------+-----------+-------------+-----------+----+-----------------+--------------------+--------------------+-----------+\n",
            "|marketplace|customer_id|     review_id|product_id|product_parent|       product_title|   product_category|star_rating|helpful_votes|total_votes|vine|verified_purchase|     review_headline|         review_body|review_date|\n",
            "+-----------+-----------+--------------+----------+--------------+--------------------+-------------------+-----------+-------------+-----------+----+-----------------+--------------------+--------------------+-----------+\n",
            "|         US|   12569493| RV4UH0OWW97K4|B0149HT55K|     947161997|Megaman Legacy Co...|Digital_Video_Games|          5|           19|         22|   N|                N|Mega Man Legacy C...|What is Mega Man?...| 2015-08-29|\n",
            "|         US|   40702997| RG6GT6G9WNYT1|B013XJ2M8M|     628348017|Rocket League [On...|Digital_Video_Games|          5|           22|         22|   N|                N|A multiplayer mas...|At its core, Rock...| 2015-08-22|\n",
            "|         US|   10139402| RFBXE3Q3GYQYO|B013XJ2M8M|     628348017|Rocket League [On...|Digital_Video_Games|          5|           68|         70|   N|                Y|Comes with Steam ...|When you buy this...| 2015-08-22|\n",
            "|         US|   22035782|R34S64NPUZOS90|B013TVXHYC|     774364132|ARK: Survival Evo...|Digital_Video_Games|          5|           23|         24|   N|                N|        Amazing game|[[VIDEOID:e5a8be6...| 2015-08-15|\n",
            "|         US|   21767922|R35O3GV3HZUX8B|B013TVXHYC|     774364132|ARK: Survival Evo...|Digital_Video_Games|          5|           58|         63|   N|                N|more than my mone...|This is definitel...| 2015-08-13|\n",
            "|         US|   47875352|R2AZAMZCEUOKQT|B00F4CF39C|     341969535| Xbox Live Gift Card|Digital_Video_Games|          1|           29|         40|   N|                Y|Complete waste of...|When I tried to r...| 2015-08-10|\n",
            "|         US|   51358050|R103RUVEH5YWQ4|B00F4CFHFC|     341969535| Xbox Live Gift Card|Digital_Video_Games|          1|           69|         90|   N|                Y|  Code already used?|Getting error tel...| 2015-08-08|\n",
            "|         US|   25803630|R2QNPQLXMCXOH3|B010KYDNDG|     835376637|Minecraft for PC/...|Digital_Video_Games|          5|           35|         37|   N|                Y|Very simple to do...|I was very nervou...| 2015-08-06|\n",
            "|         US|   52685108| R1JENRRBQ1YMY|B010KYDNDG|     835376637|Minecraft for PC/...|Digital_Video_Games|          5|           35|         36|   N|                N|Can Never Get Tir...|I have played thi...| 2015-07-22|\n",
            "|         US|   45470246|R2NS0HPQ2DD5XU|B010GVEYYK|     987484751|  EA SPORTS PGA TOUR|Digital_Video_Games|          1|           35|         45|   N|                N|  Absolutely Amazing|This game is so a...| 2015-07-20|\n",
            "|         US|   45726489| RIRX9H2QJFD1P|B010KYDNDG|     835376637|Minecraft for PC/...|Digital_Video_Games|          5|           49|         53|   N|                Y|   Minecraft for Mac|Great buy! I rece...| 2015-07-15|\n",
            "|         US|   42822633|R39R2LEKGIEUFS|B010KYDNDG|     835376637|Minecraft for PC/...|Digital_Video_Games|          5|           69|         77|   N|                Y|Fun game for kids...|Was a little skep...| 2015-07-12|\n",
            "|         US|   16925078|R2NCX85FTSTWHC|B010R8DUFQ|     473214709|Rocket League - P...|Digital_Video_Games|          5|           65|         68|   N|                N|Unbelievably addi...|Unbelievably addi...| 2015-07-10|\n",
            "|         US|    1176971|R1IN7ZA9ZCZEVM|B00XUYIOX8|     760479841|        Project CARS|Digital_Video_Games|          5|           17|         25|   N|                Y|r/PS4 Has arrived...| Hi reddit thanks op| 2015-07-07|\n",
            "|         US|   11389919|R253TQ098JL914|B00YQ2TXA6|      67665333|The Elder Scrolls...|Digital_Video_Games|          2|           22|         23|   N|                Y|Good gameplay, ho...|This may be the w...| 2015-06-29|\n",
            "|         US|   20084014|R3OPTDO4EDS6LN|B00WOXKBMS|     811744232|Kerbal Space Program|Digital_Video_Games|          5|           30|         30|   N|                Y|BUY THIS GAME!! ....|***AMAZON VERSION...| 2015-06-25|\n",
            "|         US|   45351550|R1FGHHDQ4P21C0|B00JV3B5RE|     430590615|Batman: Arkham Kn...|Digital_Video_Games|          1|           30|         33|   N|                N|BUY AT YOUR OWN RISK|I've been looking...| 2015-06-23|\n",
            "|         US|   39163813|R3FQ1CSDIOWWRY|B00JV3B5RE|     430590615|Batman: Arkham Kn...|Digital_Video_Games|          1|           71|         80|   N|                N|        Caveat Empor|Copied from my St...| 2015-06-23|\n",
            "|         US|   16910537|R3NJE21NUCII5L|B002VBWIP6|     232803743|Xbox Live Subscri...|Digital_Video_Games|          5|          135|        144|   N|                Y|Typically saves m...|I purchased a 12 ...| 2015-06-23|\n",
            "|         US|   37805211| RRXJ8H18EFNFZ|B00TUEOSMS|      47086315|FINAL FANTASY XIV...|Digital_Video_Games|          4|           26|         32|   N|                Y|1. if you bought ...|1.if you bought f...| 2015-06-19|\n",
            "+-----------+-----------+--------------+----------+--------------+--------------------+-------------------+-----------+-------------+-----------+----+-----------------+--------------------+--------------------+-----------+\n",
            "only showing top 20 rows\n",
            "\n"
          ]
        }
      ]
    },
    {
      "cell_type": "code",
      "source": [
        "total_paid = df_paid.count()\n",
        "paid_5star = df_paid.filter(df_paid.star_rating == 5).count()\n",
        "# paid_percent = (paid_5star / total_paid) * 100\n",
        "paid_percent = 0\n",
        "\n",
        "print(\"Total number of paid reviews is:\" , total_paid)\n",
        "print(\"Total number of paid 5 star reviews is:\" , paid_5star)\n",
        "print(\"Paid 5 star review percentageis:\", paid_percent)"
      ],
      "metadata": {
        "colab": {
          "base_uri": "https://localhost:8080/"
        },
        "id": "FF23gspeHTcA",
        "outputId": "75bba41d-b80d-4639-8810-727d60561dfa"
      },
      "execution_count": 27,
      "outputs": [
        {
          "output_type": "stream",
          "name": "stdout",
          "text": [
            "Total number of paid reviews is: 0\n",
            "Total number of paid 5 star reviews is: 0\n",
            "Paid 5 star review percentageis: 0\n"
          ]
        }
      ]
    },
    {
      "cell_type": "code",
      "source": [
        "total_unpaid = df_unpaid.count()\n",
        "unpaid_5star = df_unpaid.filter(df_unpaid.star_rating == 5).count()\n",
        "unpaid_percent = (unpaid_5star / total_unpaid) * 100\n",
        "\n",
        "print(\"Total number of unpaid reviews is:\" , total_unpaid)\n",
        "print(\"Total number of unpaid 5 star reviews is:\" , unpaid_5star)\n",
        "print(\"Unpaid 5 star review percentage is:\", unpaid_percent)"
      ],
      "metadata": {
        "colab": {
          "base_uri": "https://localhost:8080/"
        },
        "outputId": "5ce18034-7ed8-4b49-f20c-2c8ba20e51be",
        "id": "aR8JV-wBKXSk"
      },
      "execution_count": 26,
      "outputs": [
        {
          "output_type": "stream",
          "name": "stdout",
          "text": [
            "Total number of unpaid reviews is: 1685\n",
            "Total number of unpaid 5 star reviews is: 631\n",
            "Unpaid 5 star review percentage is: 37.448071216617215\n"
          ]
        }
      ]
    }
  ],
  "metadata": {
    "colab": {
      "provenance": [],
      "collapsed_sections": []
    },
    "kernelspec": {
      "display_name": "Python 3",
      "name": "python3"
    },
    "language_info": {
      "name": "python"
    }
  },
  "nbformat": 4,
  "nbformat_minor": 0
}